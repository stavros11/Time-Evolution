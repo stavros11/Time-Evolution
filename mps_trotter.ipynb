{
 "cells": [
  {
   "cell_type": "code",
   "execution_count": 1,
   "metadata": {},
   "outputs": [],
   "source": [
    "import numpy as np\n",
    "import matplotlib.pyplot as plt\n",
    "import matplotlib\n",
    "import seaborn as sns\n",
    "from machines import mps_trotter\n",
    "from machines import mps_utils\n",
    "import utils\n",
    "\n",
    "data_dir = \"D:/DATA/ClockV2/final_dense\""
   ]
  },
  {
   "cell_type": "code",
   "execution_count": 2,
   "metadata": {},
   "outputs": [
    {
     "data": {
      "image/png": "[encoded data removed]",
      "text/plain": [
       "<Figure size 720x72 with 1 Axes>"
      ]
     },
     "metadata": {
      "needs_background": "light"
     },
     "output_type": "display_data"
    }
   ],
   "source": [
    "matplotlib.rcParams['mathtext.fontset'] = 'cm'\n",
    "matplotlib.rcParams['font.family'] = 'STIXGeneral'\n",
    "matplotlib.rcParams[\"font.size\"] = 20\n",
    "\n",
    "cp = sns.color_palette()\n",
    "sns.palplot(cp)\n",
    "plt.show()"
   ]
  },
  {
   "cell_type": "code",
   "execution_count": 3,
   "metadata": {},
   "outputs": [],
   "source": [
    "n_sites = 6\n",
    "h_init = 1.0\n",
    "h_ev = 0.5\n",
    "\n",
    "d_bond = 4\n",
    "time_steps = 60\n",
    "t = np.linspace(0.0, 5.0, time_steps + 1)\n",
    "dt = t[1] - t[0]\n",
    "\n",
    "exact_state, exact_obs = utils.tfim_exact_evolution(n_sites, t[-1], time_steps, h0=h_init, h=h_ev)\n",
    "mps = mps_trotter.TFIMTrotterMPS(exact_state[0], d_bond, dt, h=h_ev)\n",
    "mps_state = mps.evolve(time_steps)"
   ]
  },
  {
   "cell_type": "markdown",
   "metadata": {},
   "source": [
    "Unitarity tests"
   ]
  },
  {
   "cell_type": "code",
   "execution_count": 19,
   "metadata": {},
   "outputs": [
    {
     "name": "stdout",
     "output_type": "stream",
     "text": [
      "(-1.5826731210107797e-17+0j) 1.3003219540851472e-16 3.660782718032014e-18\n",
      "(-1.5826731210107797e-17+0j) 1.3003219540851472e-16 3.660782718032014e-18\n",
      "(4.336808689942018e-18+0j) 0.32304091043541716 0.07084892508046155\n",
      "(5.204170427930421e-18+0j) 0.32304091043541716 0.07084892508046155\n"
     ]
    }
   ],
   "source": [
    "ux = mps_utils.mpo_to_dense(mps.x_op[:, np.newaxis, :, :, np.newaxis])\n",
    "uz = mps_utils.mpo_to_dense(mps.zz_op)\n",
    "\n",
    "ident = np.eye(ux.shape[0], dtype=ux.dtype)\n",
    "\n",
    "diff1 = ux.dot(ux.conj().T) - ident\n",
    "diff2 = ux.conj().T.dot(ux) - ident\n",
    "print(diff1.mean(), diff1.real.std(), diff1.imag.std())\n",
    "print(diff2.mean(), diff2.real.std(), diff2.imag.std())\n",
    "         \n",
    "diff1 = uz.dot(uz.conj().T) - ident\n",
    "diff2 = uz.conj().T.dot(uz) - ident\n",
    "print(diff1.mean(), diff1.real.std(), diff1.imag.std())\n",
    "print(diff2.mean(), diff2.real.std(), diff2.imag.std())"
   ]
  },
  {
   "cell_type": "code",
   "execution_count": null,
   "metadata": {},
   "outputs": [],
   "source": []
  }
 ],
 "metadata": {
  "anaconda-cloud": {},
  "kernelspec": {
   "display_name": "Python [conda env:Anaconda3]",
   "language": "python",
   "name": "conda-env-Anaconda3-py"
  },
  "language_info": {
   "codemirror_mode": {
    "name": "ipython",
    "version": 3
   },
   "file_extension": ".py",
   "mimetype": "text/x-python",
   "name": "python",
   "nbconvert_exporter": "python",
   "pygments_lexer": "ipython3",
   "version": "3.5.5"
  }
 },
 "nbformat": 4,
 "nbformat_minor": 2
}
