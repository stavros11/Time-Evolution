{
 "cells": [
  {
   "cell_type": "code",
   "execution_count": 1,
   "metadata": {
    "collapsed": true
   },
   "outputs": [],
   "source": [
    "import numpy as np\n",
    "import matplotlib.pyplot as plt\n",
    "import matplotlib\n",
    "import seaborn as sns\n",
    "from machines import mps_trotter\n",
    "from machines import mps_utils\n",
    "import utils\n",
    "\n",
    "data_dir = \"D:/DATA/ClockV2/final_dense\""
   ]
  },
  {
   "cell_type": "code",
   "execution_count": 2,
   "metadata": {},
   "outputs": [
    {
     "data": {
      "image/png": "[encoded data removed]",
      "text/plain": [
       "<Figure size 720x72 with 1 Axes>"
      ]
     },
     "metadata": {},
     "output_type": "display_data"
    }
   ],
   "source": [
    "matplotlib.rcParams['mathtext.fontset'] = 'cm'\n",
    "matplotlib.rcParams['font.family'] = 'STIXGeneral'\n",
    "matplotlib.rcParams[\"font.size\"] = 20\n",
    "\n",
    "cp = sns.color_palette()\n",
    "sns.palplot(cp)\n",
    "plt.show()"
   ]
  },
  {
   "cell_type": "code",
   "execution_count": 3,
   "metadata": {},
   "outputs": [],
   "source": [
    "n_sites = 6\n",
    "h_init = 1.0\n",
    "h_ev = 0.5\n",
    "\n",
    "d_bond = 4\n",
    "time_steps = 60\n",
    "t = np.linspace(0.0, 5.0, time_steps + 1)\n",
    "dt = t[1] - t[0]\n",
    "\n",
    "exact_state, exact_obs = utils.tfim_exact_evolution(n_sites, t[-1], time_steps, h0=h_init, h=h_ev)\n",
    "mps = mps_trotter.TFIMTrotterMPS(exact_state[0], d_bond, dt, h=h_ev)\n",
    "mps_state = mps.dense_evolution(time_steps)"
   ]
  },
  {
   "cell_type": "markdown",
   "metadata": {},
   "source": [
    "Unitarity tests"
   ]
  },
  {
   "cell_type": "code",
   "execution_count": 4,
   "metadata": {},
   "outputs": [
    {
     "name": "stdout",
     "output_type": "stream",
     "text": [
      "(-1.5826731210107797e-17+0j) 1.3003219540851472e-16 3.660782718032014e-18\n",
      "(-1.5826731210107797e-17+0j) 1.3003219540851472e-16 3.660782718032014e-18\n",
      "(-6.01732205729455e-17+0j) 4.780942505887994e-16 0.0\n",
      "(-6.01732205729455e-17+0j) 4.780942505887994e-16 0.0\n"
     ]
    }
   ],
   "source": [
    "ux = mps_utils.mpo_to_dense(mps.x_op[:, np.newaxis, :, :, np.newaxis])\n",
    "uz = mps_utils.mpo_to_dense(mps.zz_op)\n",
    "ident = np.eye(ux.shape[0], dtype=ux.dtype)\n",
    "\n",
    "diff1 = ux.dot(ux.conj().T) - ident\n",
    "diff2 = ux.conj().T.dot(ux) - ident\n",
    "print(diff1.mean(), diff1.real.std(), diff1.imag.std())\n",
    "print(diff2.mean(), diff2.real.std(), diff2.imag.std())\n",
    "         \n",
    "diff1 = uz.dot(uz.conj().T) - ident\n",
    "diff2 = uz.conj().T.dot(uz) - ident\n",
    "print(diff1.mean(), diff1.real.std(), diff1.imag.std())\n",
    "print(diff2.mean(), diff2.real.std(), diff2.imag.std())"
   ]
  },
  {
   "cell_type": "code",
   "execution_count": 6,
   "metadata": {},
   "outputs": [
    {
     "data": {
      "text/plain": [
       "array([0.99993232, 0.98269151, 0.98127815, 0.97961877, 0.97764115,\n",
       "       0.97539633, 0.97307607, 0.97101675, 0.96968366, 0.96963108,\n",
       "       0.97143523, 0.97560254, 0.98246534, 0.99208839, 1.00421533,\n",
       "       1.01827792, 1.03347342, 1.04889406, 1.06367899, 1.07715723,\n",
       "       1.08895686, 1.09906417, 1.10782659, 1.11590397, 1.12418503,\n",
       "       1.13369063, 1.14547909, 1.16055248, 1.17975146, 1.20363159,\n",
       "       1.23233814, 1.26551939, 1.30231738, 1.34144243, 1.38129449,\n",
       "       1.42007783, 1.45588081, 1.48674176, 1.51075766, 1.52628938,\n",
       "       1.53227162, 1.52855991, 1.51617452, 1.49728174, 1.47482955,\n",
       "       1.45190929, 1.43106398, 1.41381138, 1.40055903, 1.39090867,\n",
       "       1.38417221, 1.37984243, 1.37781553, 1.37831141, 1.38158535,\n",
       "       1.38758636, 1.39569066, 1.40458872, 1.41237702, 1.41688083,\n",
       "       1.41616129])"
      ]
     },
     "execution_count": 6,
     "metadata": {},
     "output_type": "execute_result"
    }
   ],
   "source": [
    "(np.abs(mps_state)**2).sum(axis=1)"
   ]
  },
  {
   "cell_type": "code",
   "execution_count": null,
   "metadata": {
    "collapsed": true
   },
   "outputs": [],
   "source": []
  }
 ],
 "metadata": {
  "anaconda-cloud": {},
  "kernelspec": {
   "display_name": "Python 3",
   "language": "python",
   "name": "python3"
  },
  "language_info": {
   "codemirror_mode": {
    "name": "ipython",
    "version": 3
   },
   "file_extension": ".py",
   "mimetype": "text/x-python",
   "name": "python",
   "nbconvert_exporter": "python",
   "pygments_lexer": "ipython3",
   "version": "3.6.2"
  }
 },
 "nbformat": 4,
 "nbformat_minor": 2
}
